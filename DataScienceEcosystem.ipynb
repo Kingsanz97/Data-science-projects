{
 "cells": [
  {
   "cell_type": "markdown",
   "id": "82539880-da46-4e21-ad45-d650016715ae",
   "metadata": {},
   "source": [
    "# Data Science Tools and Ecosystem"
   ]
  },
  {
   "cell_type": "markdown",
   "id": "9580f4ce-a0f7-4d5d-90d0-9af9b3262b4d",
   "metadata": {},
   "source": [
    "## Author\n",
    "\n",
    "Sandile Makhubo"
   ]
  },
  {
   "cell_type": "markdown",
   "id": "eaf9e54c-a91a-48bb-ba5f-6ae6d10cb0d1",
   "metadata": {},
   "source": [
    "In this notebook, Data Science Tools and Ecosystem are summarized."
   ]
  },
  {
   "cell_type": "markdown",
   "id": "a3f5c0bc-3fe8-44b2-a275-88dc0f1fdc71",
   "metadata": {},
   "source": [
    "**Objectives:**\n",
    "\n",
    "- Popular languages in Data Science\n",
    "- Common Libraries\n",
    "- Tools\n",
    "- Python arithmetic expressions"
   ]
  },
  {
   "cell_type": "markdown",
   "id": "78213b73-a446-4345-8edd-92d1457260b0",
   "metadata": {},
   "source": [
    "Some of the popular languages that Data Scientists use are:"
   ]
  },
  {
   "cell_type": "markdown",
   "id": "f49ba3ab-3aee-4c9b-8431-461bd319d157",
   "metadata": {},
   "source": [
    "1. Python\n",
    "2. R\n",
    "3. SQL\n",
    "4. Julia\n",
    "5. Java"
   ]
  },
  {
   "cell_type": "markdown",
   "id": "ccb01563-f6f7-4fe0-81ea-1dddf7c85c10",
   "metadata": {},
   "source": [
    "Some of the commonly used libraries used by Data Scientists include:"
   ]
  },
  {
   "cell_type": "markdown",
   "id": "d844bc32-a2f0-46ac-ba09-d3479594fd89",
   "metadata": {},
   "source": [
    "1. NumPy\n",
    "2. Pandas\n",
    "3. Matplotlib\n",
    "4. Scikit-learn"
   ]
  },
  {
   "cell_type": "markdown",
   "id": "0a1fe955-1636-44fa-9f98-b1c8fb9bf5e2",
   "metadata": {},
   "source": [
    "Data Science Tools\n",
    "-----------------|\n",
    "Hadoop|\n",
    "Apache Spark|\n",
    "R Studio|"
   ]
  },
  {
   "cell_type": "markdown",
   "id": "82b82a1c-6ce5-447f-aae4-cf77b3e2417d",
   "metadata": {},
   "source": [
    "### Below are a few examples of evaluating arithmetic expressions in Python"
   ]
  },
  {
   "cell_type": "markdown",
   "id": "b42c1a66-bcf7-44eb-8921-f1174b81a817",
   "metadata": {},
   "source": [
    "This a simple arithmetic expression to mutiply then add integers"
   ]
  },
  {
   "cell_type": "code",
   "execution_count": 32,
   "id": "41c8fda7-cf5f-48f7-8f12-f4abeacbac3a",
   "metadata": {},
   "outputs": [
    {
     "data": {
      "text/plain": [
       "17"
      ]
     },
     "execution_count": 32,
     "metadata": {},
     "output_type": "execute_result"
    }
   ],
   "source": [
    "(3*4)+5"
   ]
  },
  {
   "cell_type": "markdown",
   "id": "6f0e291f-9488-4916-bc71-0a94d4c07d8d",
   "metadata": {},
   "source": [
    "This will convert 200 minutes to hours by diving by 60"
   ]
  },
  {
   "cell_type": "code",
   "execution_count": 35,
   "id": "775b30d1-4e98-42a3-a4b6-70a7ae4b1521",
   "metadata": {},
   "outputs": [
    {
     "data": {
      "text/plain": [
       "3.3333333333333335"
      ]
     },
     "execution_count": 35,
     "metadata": {},
     "output_type": "execute_result"
    }
   ],
   "source": [
    "200/60"
   ]
  },
  {
   "cell_type": "code",
   "execution_count": null,
   "id": "2782eedc-dbe0-4e65-9f65-610444c2efc0",
   "metadata": {},
   "outputs": [],
   "source": []
  }
 ],
 "metadata": {
  "kernelspec": {
   "display_name": "Python [conda env:base] *",
   "language": "python",
   "name": "conda-base-py"
  },
  "language_info": {
   "codemirror_mode": {
    "name": "ipython",
    "version": 3
   },
   "file_extension": ".py",
   "mimetype": "text/x-python",
   "name": "python",
   "nbconvert_exporter": "python",
   "pygments_lexer": "ipython3",
   "version": "3.12.3"
  }
 },
 "nbformat": 4,
 "nbformat_minor": 5
}
